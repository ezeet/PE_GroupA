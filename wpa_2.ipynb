{
 "cells": [
  {
   "cell_type": "markdown",
   "id": "adjacent-plenty",
   "metadata": {},
   "source": [
    "# Intro to built-in data types and numpy arrays"
   ]
  },
  {
   "cell_type": "markdown",
   "id": "quiet-leader",
   "metadata": {},
   "source": [
    "First of all, activate the `psychopy` conda envirornment (from the Terminal or Anaconda Prompt: `conda activate psychopy`, or from the Anaconda navigator) and let's check that `numpy` is installed."
   ]
  },
  {
   "cell_type": "code",
   "execution_count": 1,
   "id": "downtown-panel",
   "metadata": {},
   "outputs": [],
   "source": [
    "import numpy as np"
   ]
  },
  {
   "cell_type": "markdown",
   "id": "established-nepal",
   "metadata": {},
   "source": [
    "## 1. Built-in Python types"
   ]
  },
  {
   "cell_type": "markdown",
   "id": "joined-carnival",
   "metadata": {},
   "source": [
    "Text and numeric types:"
   ]
  },
  {
   "cell_type": "code",
   "execution_count": 2,
   "id": "recent-combination",
   "metadata": {},
   "outputs": [],
   "source": [
    "text = \"ciao my name is Laura, sdalkghjdflkghj;akd93040989\""
   ]
  },
  {
   "cell_type": "code",
   "execution_count": 3,
   "id": "hollow-narrative",
   "metadata": {},
   "outputs": [
    {
     "data": {
      "text/plain": [
       "'ciao my name is Laura, sdalkghjdflkghj;akd93040989'"
      ]
     },
     "execution_count": 3,
     "metadata": {},
     "output_type": "execute_result"
    }
   ],
   "source": [
    "text"
   ]
  },
  {
   "cell_type": "code",
   "execution_count": 4,
   "id": "nutritional-illinois",
   "metadata": {},
   "outputs": [
    {
     "data": {
      "text/plain": [
       "str"
      ]
     },
     "execution_count": 4,
     "metadata": {},
     "output_type": "execute_result"
    }
   ],
   "source": [
    "type(text)"
   ]
  },
  {
   "cell_type": "code",
   "execution_count": 5,
   "id": "alert-packet",
   "metadata": {},
   "outputs": [
    {
     "data": {
      "text/plain": [
       "int"
      ]
     },
     "execution_count": 5,
     "metadata": {},
     "output_type": "execute_result"
    }
   ],
   "source": [
    "number = 3\n",
    "type(number)"
   ]
  },
  {
   "cell_type": "code",
   "execution_count": 6,
   "id": "exterior-amendment",
   "metadata": {},
   "outputs": [
    {
     "data": {
      "text/plain": [
       "float"
      ]
     },
     "execution_count": 6,
     "metadata": {},
     "output_type": "execute_result"
    }
   ],
   "source": [
    "another_number = 3.2\n",
    "type(another_number)"
   ]
  },
  {
   "cell_type": "markdown",
   "id": "improving-class",
   "metadata": {},
   "source": [
    "Booleans are truth statements:"
   ]
  },
  {
   "cell_type": "code",
   "execution_count": 7,
   "id": "demanding-missouri",
   "metadata": {},
   "outputs": [
    {
     "data": {
      "text/plain": [
       "False"
      ]
     },
     "execution_count": 7,
     "metadata": {},
     "output_type": "execute_result"
    }
   ],
   "source": [
    "number > 3"
   ]
  },
  {
   "cell_type": "code",
   "execution_count": 8,
   "id": "beneficial-leisure",
   "metadata": {},
   "outputs": [],
   "source": [
    "a = (number < 3)"
   ]
  },
  {
   "cell_type": "code",
   "execution_count": 9,
   "id": "prescribed-island",
   "metadata": {},
   "outputs": [
    {
     "data": {
      "text/plain": [
       "False"
      ]
     },
     "execution_count": 9,
     "metadata": {},
     "output_type": "execute_result"
    }
   ],
   "source": [
    "a"
   ]
  },
  {
   "cell_type": "code",
   "execution_count": 10,
   "id": "tight-institute",
   "metadata": {},
   "outputs": [
    {
     "data": {
      "text/plain": [
       "True"
      ]
     },
     "execution_count": 10,
     "metadata": {},
     "output_type": "execute_result"
    }
   ],
   "source": [
    "number <= 3"
   ]
  },
  {
   "cell_type": "code",
   "execution_count": 11,
   "id": "royal-crystal",
   "metadata": {},
   "outputs": [
    {
     "data": {
      "text/plain": [
       "bool"
      ]
     },
     "execution_count": 11,
     "metadata": {},
     "output_type": "execute_result"
    }
   ],
   "source": [
    "type(a)"
   ]
  },
  {
   "cell_type": "markdown",
   "id": "antique-ceramic",
   "metadata": {},
   "source": [
    "Sequences and mappings:\n",
    "\n",
    "- List is a collection which is ordered and changeable. Allows duplicate members.\n",
    "- Tuple is a collection which is ordered and unchangeable. Allows duplicate members.\n",
    "- Dictionary is a collection which is unordered and changeable. No duplicate members."
   ]
  },
  {
   "cell_type": "code",
   "execution_count": 12,
   "id": "manufactured-bicycle",
   "metadata": {},
   "outputs": [
    {
     "data": {
      "text/plain": [
       "list"
      ]
     },
     "execution_count": 12,
     "metadata": {},
     "output_type": "execute_result"
    }
   ],
   "source": [
    "a_list = [1, 2, 3]\n",
    "type(a_list)"
   ]
  },
  {
   "cell_type": "code",
   "execution_count": 13,
   "id": "challenging-bearing",
   "metadata": {},
   "outputs": [
    {
     "data": {
      "text/plain": [
       "[1, 2, 3]"
      ]
     },
     "execution_count": 13,
     "metadata": {},
     "output_type": "execute_result"
    }
   ],
   "source": [
    "a_list"
   ]
  },
  {
   "cell_type": "code",
   "execution_count": 14,
   "id": "bigger-librarian",
   "metadata": {},
   "outputs": [
    {
     "data": {
      "text/plain": [
       "tuple"
      ]
     },
     "execution_count": 14,
     "metadata": {},
     "output_type": "execute_result"
    }
   ],
   "source": [
    "a_tuple = (2, \"b\")\n",
    "type(a_tuple)"
   ]
  },
  {
   "cell_type": "code",
   "execution_count": 15,
   "id": "available-verse",
   "metadata": {},
   "outputs": [
    {
     "data": {
      "text/plain": [
       "dict"
      ]
     },
     "execution_count": 15,
     "metadata": {},
     "output_type": "execute_result"
    }
   ],
   "source": [
    "a_dictionary = {\"age\": 25, \"height\": 180, \"measurements\": [8, 6, 15]}\n",
    "type(a_dictionary)"
   ]
  },
  {
   "cell_type": "markdown",
   "id": "waiting-camping",
   "metadata": {},
   "source": [
    "## 2. Lists"
   ]
  },
  {
   "cell_type": "code",
   "execution_count": 16,
   "id": "aboriginal-division",
   "metadata": {},
   "outputs": [
    {
     "data": {
      "text/plain": [
       "[1, 2, 3, 4]"
      ]
     },
     "execution_count": 16,
     "metadata": {},
     "output_type": "execute_result"
    }
   ],
   "source": [
    "list_of_int = [1, 2, 3, 4]\n",
    "list_of_int"
   ]
  },
  {
   "cell_type": "code",
   "execution_count": 17,
   "id": "whole-cylinder",
   "metadata": {},
   "outputs": [
    {
     "data": {
      "text/plain": [
       "['a', 'b', 'c', 'defgh']"
      ]
     },
     "execution_count": 17,
     "metadata": {},
     "output_type": "execute_result"
    }
   ],
   "source": [
    "list_of_str = ['a', 'b', 'c', 'defgh']\n",
    "list_of_str"
   ]
  },
  {
   "cell_type": "code",
   "execution_count": 18,
   "id": "honey-singing",
   "metadata": {},
   "outputs": [
    {
     "data": {
      "text/plain": [
       "[True, False, True, True]"
      ]
     },
     "execution_count": 18,
     "metadata": {},
     "output_type": "execute_result"
    }
   ],
   "source": [
    "list_of_bool = [True, False, True, True]\n",
    "list_of_bool"
   ]
  },
  {
   "cell_type": "code",
   "execution_count": 19,
   "id": "gross-profile",
   "metadata": {},
   "outputs": [
    {
     "data": {
      "text/plain": [
       "[0.1, 1, 2.1, 3.4]"
      ]
     },
     "execution_count": 19,
     "metadata": {},
     "output_type": "execute_result"
    }
   ],
   "source": [
    "list_of_float = [0.1, 1, 2.1, 3.4]\n",
    "list_of_float"
   ]
  },
  {
   "cell_type": "code",
   "execution_count": 20,
   "id": "ethical-smooth",
   "metadata": {},
   "outputs": [
    {
     "data": {
      "text/plain": [
       "1"
      ]
     },
     "execution_count": 20,
     "metadata": {},
     "output_type": "execute_result"
    }
   ],
   "source": [
    "list_of_int[0] # first element of a list"
   ]
  },
  {
   "cell_type": "code",
   "execution_count": 21,
   "id": "sorted-security",
   "metadata": {},
   "outputs": [
    {
     "data": {
      "text/plain": [
       "list"
      ]
     },
     "execution_count": 21,
     "metadata": {},
     "output_type": "execute_result"
    }
   ],
   "source": [
    "type(list_of_bool)"
   ]
  },
  {
   "cell_type": "code",
   "execution_count": 22,
   "id": "driven-township",
   "metadata": {},
   "outputs": [
    {
     "data": {
      "text/plain": [
       "(int, float)"
      ]
     },
     "execution_count": 22,
     "metadata": {},
     "output_type": "execute_result"
    }
   ],
   "source": [
    "type(list_of_float[1]), type(list_of_float[2]) # list can contain different data types"
   ]
  },
  {
   "cell_type": "code",
   "execution_count": 23,
   "id": "satellite-shock",
   "metadata": {},
   "outputs": [
    {
     "data": {
      "text/plain": [
       "['a', 1, [1, 2, 3]]"
      ]
     },
     "execution_count": 23,
     "metadata": {},
     "output_type": "execute_result"
    }
   ],
   "source": [
    "['a', 1, [1, 2, 3]]"
   ]
  },
  {
   "cell_type": "code",
   "execution_count": 24,
   "id": "fewer-crack",
   "metadata": {},
   "outputs": [
    {
     "data": {
      "text/plain": [
       "4"
      ]
     },
     "execution_count": 24,
     "metadata": {},
     "output_type": "execute_result"
    }
   ],
   "source": [
    "len(list_of_float) # how many elements are in this list?"
   ]
  },
  {
   "cell_type": "code",
   "execution_count": 25,
   "id": "committed-estonia",
   "metadata": {},
   "outputs": [
    {
     "data": {
      "text/plain": [
       "[0.1, 1, 2.1, 3.4, 0.1, 1, 2.1, 3.4, 0.1, 1, 2.1, 3.4]"
      ]
     },
     "execution_count": 25,
     "metadata": {},
     "output_type": "execute_result"
    }
   ],
   "source": [
    "list_of_float*3 # stack the same list"
   ]
  },
  {
   "cell_type": "code",
   "execution_count": 26,
   "id": "touched-moses",
   "metadata": {},
   "outputs": [
    {
     "data": {
      "text/plain": [
       "[0.1, 1, 2.1, 3.4, True, False, True, True, 0.1, 1, 2.1, 3.4]"
      ]
     },
     "execution_count": 26,
     "metadata": {},
     "output_type": "execute_result"
    }
   ],
   "source": [
    "list_of_float + list_of_bool + list_of_float # stack different lists"
   ]
  },
  {
   "cell_type": "code",
   "execution_count": 27,
   "id": "crucial-yukon",
   "metadata": {},
   "outputs": [
    {
     "data": {
      "text/plain": [
       "[0.1, 1, 2.1, 3.4]"
      ]
     },
     "execution_count": 27,
     "metadata": {},
     "output_type": "execute_result"
    }
   ],
   "source": [
    "list_of_float # the original does not change!"
   ]
  },
  {
   "cell_type": "code",
   "execution_count": 28,
   "id": "quarterly-yugoslavia",
   "metadata": {},
   "outputs": [],
   "source": [
    "se = list_of_float*3 "
   ]
  },
  {
   "cell_type": "code",
   "execution_count": 37,
   "id": "arranged-hygiene",
   "metadata": {},
   "outputs": [
    {
     "data": {
      "text/plain": [
       "[0.1, 1, 2.1, 3.4, 0.1, 1, 2.1, 3.4, 0.1, 1, 2.1, 3.4]"
      ]
     },
     "execution_count": 37,
     "metadata": {},
     "output_type": "execute_result"
    }
   ],
   "source": [
    "se"
   ]
  },
  {
   "cell_type": "code",
   "execution_count": 30,
   "id": "daily-record",
   "metadata": {},
   "outputs": [
    {
     "data": {
      "text/plain": [
       "[0.1, 1, 2.1, 3.4]"
      ]
     },
     "execution_count": 30,
     "metadata": {},
     "output_type": "execute_result"
    }
   ],
   "source": [
    "list_of_float"
   ]
  },
  {
   "cell_type": "code",
   "execution_count": 31,
   "id": "informative-extent",
   "metadata": {},
   "outputs": [],
   "source": [
    "list_of_float.append(list_of_bool) # add elements at the end"
   ]
  },
  {
   "cell_type": "code",
   "execution_count": 32,
   "id": "integral-initial",
   "metadata": {},
   "outputs": [
    {
     "data": {
      "text/plain": [
       "[0.1, 1, 2.1, 3.4, [True, False, True, True]]"
      ]
     },
     "execution_count": 32,
     "metadata": {},
     "output_type": "execute_result"
    }
   ],
   "source": [
    "list_of_float # the original changed!"
   ]
  },
  {
   "cell_type": "code",
   "execution_count": 33,
   "id": "civil-windsor",
   "metadata": {},
   "outputs": [
    {
     "data": {
      "text/plain": [
       "5"
      ]
     },
     "execution_count": 33,
     "metadata": {},
     "output_type": "execute_result"
    }
   ],
   "source": [
    "len(list_of_float) # we appended a list as an element"
   ]
  },
  {
   "cell_type": "code",
   "execution_count": 34,
   "id": "transparent-choice",
   "metadata": {},
   "outputs": [],
   "source": [
    "for i in list_of_str: # now we append every element one at a time\n",
    "    list_of_int.append(i)"
   ]
  },
  {
   "cell_type": "code",
   "execution_count": 35,
   "id": "valued-survival",
   "metadata": {},
   "outputs": [
    {
     "data": {
      "text/plain": [
       "[1, 2, 3, 4, 'a', 'b', 'c', 'defgh']"
      ]
     },
     "execution_count": 35,
     "metadata": {},
     "output_type": "execute_result"
    }
   ],
   "source": [
    "list_of_int"
   ]
  },
  {
   "cell_type": "code",
   "execution_count": 36,
   "id": "meaning-delaware",
   "metadata": {},
   "outputs": [
    {
     "ename": "TypeError",
     "evalue": "'<' not supported between instances of 'str' and 'int'",
     "output_type": "error",
     "traceback": [
      "\u001b[1;31m---------------------------------------------------------------------------\u001b[0m",
      "\u001b[1;31mTypeError\u001b[0m                                 Traceback (most recent call last)",
      "\u001b[1;32m<ipython-input-36-7a96fa07643c>\u001b[0m in \u001b[0;36m<module>\u001b[1;34m\u001b[0m\n\u001b[1;32m----> 1\u001b[1;33m \u001b[0mlist_of_int\u001b[0m\u001b[1;33m.\u001b[0m\u001b[0msort\u001b[0m\u001b[1;33m(\u001b[0m\u001b[1;33m)\u001b[0m \u001b[1;31m# you cannot sort the list when the elements are of different type though\u001b[0m\u001b[1;33m\u001b[0m\u001b[1;33m\u001b[0m\u001b[0m\n\u001b[0m",
      "\u001b[1;31mTypeError\u001b[0m: '<' not supported between instances of 'str' and 'int'"
     ]
    }
   ],
   "source": [
    "list_of_int.sort() # you cannot sort the list when the elements are of different type though"
   ]
  },
  {
   "cell_type": "code",
   "execution_count": null,
   "id": "expressed-cheese",
   "metadata": {},
   "outputs": [],
   "source": [
    "list_of_int = [2, 15, 6, 1]"
   ]
  },
  {
   "cell_type": "code",
   "execution_count": null,
   "id": "genetic-character",
   "metadata": {},
   "outputs": [],
   "source": [
    "list_of_int.sort()"
   ]
  },
  {
   "cell_type": "code",
   "execution_count": null,
   "id": "brutal-tunnel",
   "metadata": {},
   "outputs": [],
   "source": [
    "list_of_int"
   ]
  },
  {
   "cell_type": "code",
   "execution_count": null,
   "id": "composite-yukon",
   "metadata": {},
   "outputs": [],
   "source": [
    "list_of_int.reverse() # reverse the order!\n",
    "list_of_int"
   ]
  },
  {
   "cell_type": "code",
   "execution_count": null,
   "id": "certified-dealer",
   "metadata": {},
   "outputs": [],
   "source": [
    "list_of_int.remove(15) # remove a specific element\n",
    "list_of_int"
   ]
  },
  {
   "cell_type": "code",
   "execution_count": null,
   "id": "permanent-karma",
   "metadata": {},
   "outputs": [],
   "source": [
    "list_of_int.insert(2, 34) # insert a specific element in a certain position\n",
    "list_of_int"
   ]
  },
  {
   "cell_type": "code",
   "execution_count": null,
   "id": "premier-vancouver",
   "metadata": {},
   "outputs": [],
   "source": [
    "list_of_int.pop(2) # remove a specific element in a certain position\n",
    "list_of_int"
   ]
  },
  {
   "cell_type": "markdown",
   "id": "surface-shark",
   "metadata": {},
   "source": [
    "## 3. Dictionaries"
   ]
  },
  {
   "cell_type": "code",
   "execution_count": 62,
   "id": "immune-federation",
   "metadata": {},
   "outputs": [],
   "source": [
    "auto = {'model': 'PEUGEOT 308',\n",
    "        'CHF': 10500,\n",
    "        'where': 'Dietikon',\n",
    "        'km': 86000,\n",
    "        'fuel': 'diesel',\n",
    "        'ccm': 1560\n",
    "       }"
   ]
  },
  {
   "cell_type": "code",
   "execution_count": 74,
   "id": "revised-portable",
   "metadata": {},
   "outputs": [
    {
     "ename": "TypeError",
     "evalue": "'dict_values' object is not subscriptable",
     "output_type": "error",
     "traceback": [
      "\u001b[1;31m---------------------------------------------------------------------------\u001b[0m",
      "\u001b[1;31mTypeError\u001b[0m                                 Traceback (most recent call last)",
      "\u001b[1;32m<ipython-input-74-8f240058dff3>\u001b[0m in \u001b[0;36m<module>\u001b[1;34m\u001b[0m\n\u001b[0;32m      1\u001b[0m \u001b[0mauto\u001b[0m\u001b[1;33m.\u001b[0m\u001b[0mvalues\u001b[0m\u001b[1;33m(\u001b[0m\u001b[1;33m)\u001b[0m\u001b[1;33m\u001b[0m\u001b[1;33m\u001b[0m\u001b[0m\n\u001b[1;32m----> 2\u001b[1;33m \u001b[0mauto\u001b[0m\u001b[1;33m.\u001b[0m\u001b[0mvalues\u001b[0m\u001b[1;33m(\u001b[0m\u001b[1;33m)\u001b[0m\u001b[1;33m[\u001b[0m\u001b[1;36m0\u001b[0m\u001b[1;33m]\u001b[0m\u001b[1;33m\u001b[0m\u001b[1;33m\u001b[0m\u001b[0m\n\u001b[0m",
      "\u001b[1;31mTypeError\u001b[0m: 'dict_values' object is not subscriptable"
     ]
    }
   ],
   "source": [
    "auto.values()\n",
    "auto.values()[0]"
   ]
  },
  {
   "cell_type": "code",
   "execution_count": 57,
   "id": "regulation-centre",
   "metadata": {},
   "outputs": [
    {
     "ename": "TypeError",
     "evalue": "keys() takes no arguments (1 given)",
     "output_type": "error",
     "traceback": [
      "\u001b[1;31m---------------------------------------------------------------------------\u001b[0m",
      "\u001b[1;31mTypeError\u001b[0m                                 Traceback (most recent call last)",
      "\u001b[1;32m<ipython-input-57-61d2239d1da1>\u001b[0m in \u001b[0;36m<module>\u001b[1;34m\u001b[0m\n\u001b[1;32m----> 1\u001b[1;33m \u001b[0mauto\u001b[0m\u001b[1;33m.\u001b[0m\u001b[0mkeys\u001b[0m\u001b[1;33m(\u001b[0m\u001b[0mauto\u001b[0m\u001b[1;33m[\u001b[0m\u001b[1;34m\"model\"\u001b[0m\u001b[1;33m]\u001b[0m\u001b[1;33m)\u001b[0m\u001b[1;33m\u001b[0m\u001b[1;33m\u001b[0m\u001b[0m\n\u001b[0m",
      "\u001b[1;31mTypeError\u001b[0m: keys() takes no arguments (1 given)"
     ]
    }
   ],
   "source": [
    "auto.keys()"
   ]
  },
  {
   "cell_type": "code",
   "execution_count": null,
   "id": "adjustable-light",
   "metadata": {},
   "outputs": [],
   "source": [
    "auto.items()"
   ]
  },
  {
   "cell_type": "code",
   "execution_count": null,
   "id": "outside-siemens",
   "metadata": {},
   "outputs": [],
   "source": [
    "for i in auto.items():\n",
    "    print(type(i))"
   ]
  },
  {
   "cell_type": "code",
   "execution_count": 52,
   "id": "automatic-pennsylvania",
   "metadata": {},
   "outputs": [
    {
     "name": "stdout",
     "output_type": "stream",
     "text": [
      "model\n",
      "CHF\n",
      "where\n",
      "km\n",
      "fuel\n",
      "ccm\n"
     ]
    }
   ],
   "source": [
    "for i in auto.keys():\n",
    "    print(i)"
   ]
  },
  {
   "cell_type": "code",
   "execution_count": 53,
   "id": "pharmaceutical-immune",
   "metadata": {},
   "outputs": [
    {
     "name": "stdout",
     "output_type": "stream",
     "text": [
      "PEUGEOT 308\n",
      "10500\n",
      "Dietikon\n",
      "86000\n",
      "diesel\n",
      "1560\n"
     ]
    }
   ],
   "source": [
    "for i in auto.keys():\n",
    "    print(auto[i])"
   ]
  },
  {
   "cell_type": "code",
   "execution_count": null,
   "id": "comfortable-bryan",
   "metadata": {},
   "outputs": [],
   "source": [
    "len(auto) # how many items?"
   ]
  },
  {
   "cell_type": "code",
   "execution_count": 59,
   "id": "recent-tunisia",
   "metadata": {},
   "outputs": [
    {
     "data": {
      "text/plain": [
       "'PEUGEOT 308'"
      ]
     },
     "execution_count": 59,
     "metadata": {},
     "output_type": "execute_result"
    }
   ],
   "source": [
    "auto['model'] # get value corresponding to a key"
   ]
  },
  {
   "cell_type": "code",
   "execution_count": null,
   "id": "massive-colon",
   "metadata": {},
   "outputs": [],
   "source": [
    "auto['km'] = 90000 # change a value\n",
    "auto"
   ]
  },
  {
   "cell_type": "code",
   "execution_count": null,
   "id": "caring-outside",
   "metadata": {},
   "outputs": [],
   "source": [
    "auto['color'] = 'blue' # add an item\n",
    "auto"
   ]
  },
  {
   "cell_type": "code",
   "execution_count": null,
   "id": "mineral-companion",
   "metadata": {},
   "outputs": [],
   "source": [
    "'color' in auto # is a key in the dic?"
   ]
  },
  {
   "cell_type": "code",
   "execution_count": 61,
   "id": "judicial-satin",
   "metadata": {},
   "outputs": [
    {
     "ename": "KeyError",
     "evalue": "'CHF'",
     "output_type": "error",
     "traceback": [
      "\u001b[1;31m---------------------------------------------------------------------------\u001b[0m",
      "\u001b[1;31mKeyError\u001b[0m                                  Traceback (most recent call last)",
      "\u001b[1;32m<ipython-input-61-92181aee10ae>\u001b[0m in \u001b[0;36m<module>\u001b[1;34m\u001b[0m\n\u001b[1;32m----> 1\u001b[1;33m \u001b[0mauto\u001b[0m\u001b[1;33m.\u001b[0m\u001b[0mpop\u001b[0m\u001b[1;33m(\u001b[0m\u001b[1;34m\"CHF\"\u001b[0m\u001b[1;33m)\u001b[0m \u001b[1;31m# remove an item\u001b[0m\u001b[1;33m\u001b[0m\u001b[1;33m\u001b[0m\u001b[0m\n\u001b[0m\u001b[0;32m      2\u001b[0m \u001b[0mauto\u001b[0m\u001b[1;33m[\u001b[0m\u001b[1;33m[\u001b[0m\u001b[1;36m1\u001b[0m\u001b[1;33m,\u001b[0m\u001b[1;33m]\u001b[0m\u001b[1;33m]\u001b[0m\u001b[1;33m\u001b[0m\u001b[1;33m\u001b[0m\u001b[0m\n",
      "\u001b[1;31mKeyError\u001b[0m: 'CHF'"
     ]
    }
   ],
   "source": [
    "auto.pop(\"CHF\") # remove an item"
   ]
  },
  {
   "cell_type": "markdown",
   "id": "federal-teddy",
   "metadata": {},
   "source": [
    "## 4. Creating a numpy array "
   ]
  },
  {
   "cell_type": "code",
   "execution_count": null,
   "id": "nearby-myanmar",
   "metadata": {},
   "outputs": [],
   "source": [
    "import numpy as np"
   ]
  },
  {
   "cell_type": "code",
   "execution_count": null,
   "id": "compressed-surfing",
   "metadata": {},
   "outputs": [],
   "source": [
    "np.array()"
   ]
  },
  {
   "cell_type": "code",
   "execution_count": null,
   "id": "improving-trout",
   "metadata": {},
   "outputs": [],
   "source": [
    "empty_list = []"
   ]
  },
  {
   "cell_type": "code",
   "execution_count": null,
   "id": "relevant-consistency",
   "metadata": {},
   "outputs": [],
   "source": [
    "len(empty_list)"
   ]
  },
  {
   "cell_type": "code",
   "execution_count": null,
   "id": "abstract-scroll",
   "metadata": {},
   "outputs": [],
   "source": [
    "first_array = np.array([])\n",
    "first_array"
   ]
  },
  {
   "cell_type": "code",
   "execution_count": null,
   "id": "human-denial",
   "metadata": {},
   "outputs": [],
   "source": [
    "int_array = np.array([1, 2, 3, 4])\n",
    "int_array"
   ]
  },
  {
   "cell_type": "code",
   "execution_count": null,
   "id": "therapeutic-agriculture",
   "metadata": {},
   "outputs": [],
   "source": [
    "int_array.dtype"
   ]
  },
  {
   "cell_type": "code",
   "execution_count": null,
   "id": "north-smell",
   "metadata": {},
   "outputs": [],
   "source": [
    "str_array = np.array(['a', 'b', 'c', 'd', 'e'])\n",
    "str_array.dtype"
   ]
  },
  {
   "cell_type": "code",
   "execution_count": null,
   "id": "pacific-booth",
   "metadata": {},
   "outputs": [],
   "source": [
    "str_array = np.array(['aerf', 'B1', 'c', 'd', 'e'])\n",
    "str_array.dtype"
   ]
  },
  {
   "cell_type": "code",
   "execution_count": null,
   "id": "brutal-arbor",
   "metadata": {},
   "outputs": [],
   "source": [
    "type(int_array), type(first_array), type(str_array)"
   ]
  },
  {
   "cell_type": "code",
   "execution_count": null,
   "id": "french-sleeve",
   "metadata": {},
   "outputs": [],
   "source": [
    "int_array[0] # access the first element"
   ]
  },
  {
   "cell_type": "code",
   "execution_count": null,
   "id": "persistent-penetration",
   "metadata": {},
   "outputs": [],
   "source": [
    "more_dimensions = np.array([[1, 2, 3], [4.1, 5, 6]])\n",
    "more_dimensions"
   ]
  },
  {
   "cell_type": "code",
   "execution_count": null,
   "id": "organizational-smith",
   "metadata": {},
   "outputs": [],
   "source": [
    "more_dimensions[0,] # access elements in a 2D array"
   ]
  },
  {
   "cell_type": "code",
   "execution_count": null,
   "id": "rubber-strap",
   "metadata": {},
   "outputs": [],
   "source": [
    "more_dimensions[1, 0] = 4 # change an element\n",
    "more_dimensions"
   ]
  },
  {
   "cell_type": "code",
   "execution_count": null,
   "id": "amino-jacob",
   "metadata": {},
   "outputs": [],
   "source": [
    "more_dimensions.dtype # differently from lists, the elements of an array must all have same type"
   ]
  },
  {
   "cell_type": "code",
   "execution_count": null,
   "id": "auburn-lebanon",
   "metadata": {},
   "outputs": [],
   "source": [
    "more_dimensions.astype(int) # change type"
   ]
  },
  {
   "cell_type": "code",
   "execution_count": null,
   "id": "final-saudi",
   "metadata": {},
   "outputs": [],
   "source": [
    "int_array.shape"
   ]
  },
  {
   "cell_type": "code",
   "execution_count": null,
   "id": "critical-fifteen",
   "metadata": {},
   "outputs": [],
   "source": [
    "more_dimensions.shape"
   ]
  },
  {
   "cell_type": "markdown",
   "id": "authentic-sugar",
   "metadata": {},
   "source": [
    "Create arrays made of zeros or ones:"
   ]
  },
  {
   "cell_type": "code",
   "execution_count": null,
   "id": "clear-humidity",
   "metadata": {},
   "outputs": [],
   "source": [
    "a = np.zeros(shape=(3, 10))\n",
    "a"
   ]
  },
  {
   "cell_type": "code",
   "execution_count": null,
   "id": "distant-latin",
   "metadata": {},
   "outputs": [],
   "source": [
    "b = np.ones(10)\n",
    "b"
   ]
  },
  {
   "cell_type": "code",
   "execution_count": null,
   "id": "neural-overview",
   "metadata": {},
   "outputs": [],
   "source": [
    "a*b # differently from lists, operations between arrays are math operations"
   ]
  },
  {
   "cell_type": "code",
   "execution_count": null,
   "id": "chemical-atlantic",
   "metadata": {},
   "outputs": [],
   "source": [
    "a + b"
   ]
  },
  {
   "cell_type": "code",
   "execution_count": null,
   "id": "dedicated-gibraltar",
   "metadata": {},
   "outputs": [],
   "source": [
    "b*24"
   ]
  },
  {
   "cell_type": "code",
   "execution_count": null,
   "id": "governing-parks",
   "metadata": {},
   "outputs": [],
   "source": [
    "a + 10 / 2"
   ]
  },
  {
   "cell_type": "markdown",
   "id": "systematic-intensity",
   "metadata": {},
   "source": [
    "Create different kind of sequences:"
   ]
  },
  {
   "cell_type": "code",
   "execution_count": null,
   "id": "consolidated-restriction",
   "metadata": {},
   "outputs": [],
   "source": [
    "np.arange(start=0, stop=11, step=2) # sequence of numbers from start to stop, every step"
   ]
  },
  {
   "cell_type": "code",
   "execution_count": null,
   "id": "chubby-blocking",
   "metadata": {},
   "outputs": [],
   "source": [
    "np.arange(1, 12, step=2)"
   ]
  },
  {
   "cell_type": "code",
   "execution_count": null,
   "id": "regulated-person",
   "metadata": {},
   "outputs": [],
   "source": [
    "np.linspace(start=1, stop=10, num=10) # sequence of num lenghts, between start and stop"
   ]
  },
  {
   "cell_type": "code",
   "execution_count": null,
   "id": "broken-relaxation",
   "metadata": {},
   "outputs": [],
   "source": [
    "np.linspace(start=0, stop=10, num=21)"
   ]
  },
  {
   "cell_type": "markdown",
   "id": "quality-short",
   "metadata": {},
   "source": [
    "## 5. Boolean indexing"
   ]
  },
  {
   "cell_type": "code",
   "execution_count": null,
   "id": "colored-worry",
   "metadata": {},
   "outputs": [],
   "source": [
    "c = np.arange(1, 101, 1).reshape(10, 10)\n",
    "c"
   ]
  },
  {
   "cell_type": "code",
   "execution_count": null,
   "id": "ready-burden",
   "metadata": {},
   "outputs": [],
   "source": [
    "c > 45"
   ]
  },
  {
   "cell_type": "code",
   "execution_count": null,
   "id": "random-bubble",
   "metadata": {},
   "outputs": [],
   "source": [
    "c[c <= 10] = 0\n",
    "c"
   ]
  },
  {
   "cell_type": "markdown",
   "id": "christian-death",
   "metadata": {},
   "source": [
    "## Exercises\n",
    "\n",
    "- 1.1 Create a dictionary called `dog`, made of 5 meaningful items of your choice. Values should include: at least 1 integer, 1 list, 1 string.\n",
    "- 1.2 Add an element to the list that you stored in the `dog` dictionary, and print the new dictionary.\n",
    "- 1.3 Eliminate the item whose value was an integer, and print the new dictionary.\n",
    "- 1.4 Add a new item, print the dictionary, and then delete it, and print it again.\n",
    "\n",
    "\n",
    "- 2.1 Create a numpy array called `a`, of shape (10, 2), made of ones.\n",
    "- 2.2 Create a numpy array called `b`, of shape (10, 1), made of zeros.\n",
    "- 2.3 Add `a` to `b` and call their result `ab`.\n",
    "- 2.4 Access the second element in the third row of `ab` and assign the value 100. Print the new `ab`.\n",
    "- 2.5 Create a sequence called `c`, containing all multiples of 10 up to 200.\n",
    "- 2.6 Create a sequence called `d`, containing all numbers from 0 to 2 with 2 decimals.\n",
    "\n",
    "**Send me your solutions** before the end of this Friday (at laura.fontanesi@unibas.ch).\n",
    "\n",
    "**NOTE**: Do not send me a notebook but simply a text file, named `wpa_2_Surname_Name.py` (with your own name and surname of course). To make it a bit clear, please write a comment to indicate which answer a specific chunk of code releated to, e.g.:\n",
    "\n",
    "```\n",
    "# exercise 1\n",
    "a = 7 + 8\n",
    "b = 8\n",
    "c = a*b\n",
    "\n",
    "# exercise 2\n",
    "e = np.array([4, 5, 76])\n",
    "f = np.append(e, [3, 4, 5])\n",
    "```"
   ]
  },
  {
   "cell_type": "markdown",
   "id": "sharing-overhead",
   "metadata": {},
   "source": [
    "## Solutions"
   ]
  },
  {
   "cell_type": "markdown",
   "id": "fuzzy-capture",
   "metadata": {},
   "source": [
    "### Exercise 1"
   ]
  },
  {
   "cell_type": "markdown",
   "id": "liberal-antarctica",
   "metadata": {},
   "source": [
    "- 1.1 Create a dictionary called `dog`, made of 5 meaningful items of your choice. Values should include: at least 1 integer, 1 list, 1 string.\n",
    "- 1.2 Add an element to the list that you stored in the `dog` dictionary, and print the new dictionary.\n",
    "- 1.3 Eliminate the item whose value was an integer, and print the new dictionary.\n",
    "- 1.4 Add a new item, print the dictionary, and then delete it, and print it again."
   ]
  },
  {
   "cell_type": "code",
   "execution_count": null,
   "id": "otherwise-investor",
   "metadata": {},
   "outputs": [],
   "source": [
    "dog = {\n",
    "    'breed': 'Australian Shepherd',\n",
    "    'pedigree': False,\n",
    "    'gender': 'f',\n",
    "    'age': 2,\n",
    "    'height_jumps': [.6, 1.2, .8, 1.1, 1.5]\n",
    "      }\n",
    "dog['height_jumps'].append(1)\n",
    "dog"
   ]
  },
  {
   "cell_type": "code",
   "execution_count": null,
   "id": "lasting-hearts",
   "metadata": {},
   "outputs": [],
   "source": [
    "dog.pop('age')\n",
    "dog"
   ]
  },
  {
   "cell_type": "code",
   "execution_count": null,
   "id": "revised-empty",
   "metadata": {},
   "outputs": [],
   "source": [
    "dog['likes_apples'] = True\n",
    "dog"
   ]
  },
  {
   "cell_type": "code",
   "execution_count": null,
   "id": "successful-fancy",
   "metadata": {},
   "outputs": [],
   "source": [
    "dog.pop('likes_apples')\n",
    "dog"
   ]
  },
  {
   "cell_type": "markdown",
   "id": "married-stuff",
   "metadata": {},
   "source": [
    "### Exercise 2"
   ]
  },
  {
   "cell_type": "markdown",
   "id": "right-confusion",
   "metadata": {},
   "source": [
    "- 2.1 Create a numpy array called `a`, of shape (10, 2), made of ones.\n",
    "- 2.2 Create a numpy array called `b`, of shape (10, 1), made of zeros.\n",
    "- 2.3 Add `a` to `b` and call their result `ab`.\n",
    "- 2.4 Access the second element in the third row of `ab` and assign the value 100. Print the new `ab`.\n",
    "- 2.5 Create a sequence called `c`, containing all multiples of 10 up to 200.\n",
    "- 2.6 Create a sequence called `d`, containing all numbers from 0 to 2 with 2 decimals."
   ]
  },
  {
   "cell_type": "code",
   "execution_count": null,
   "id": "animated-congo",
   "metadata": {},
   "outputs": [],
   "source": [
    "a = np.ones((10, 2))\n",
    "b = np.zeros((10, 1))"
   ]
  },
  {
   "cell_type": "code",
   "execution_count": null,
   "id": "homeless-surname",
   "metadata": {},
   "outputs": [],
   "source": [
    "ab = a + b\n",
    "ab"
   ]
  },
  {
   "cell_type": "code",
   "execution_count": null,
   "id": "lucky-caribbean",
   "metadata": {},
   "outputs": [],
   "source": [
    "ab[2, 1] = 100\n",
    "ab"
   ]
  },
  {
   "cell_type": "code",
   "execution_count": null,
   "id": "protected-original",
   "metadata": {},
   "outputs": [],
   "source": [
    "c = np.arange(10, 201, 10)\n",
    "c"
   ]
  },
  {
   "cell_type": "code",
   "execution_count": null,
   "id": "variable-marketplace",
   "metadata": {},
   "outputs": [],
   "source": [
    "d = np.arange(0, 2.01, .01)\n",
    "d"
   ]
  }
 ],
 "metadata": {
  "kernelspec": {
   "display_name": "Python 3",
   "language": "python",
   "name": "python3"
  },
  "language_info": {
   "codemirror_mode": {
    "name": "ipython",
    "version": 3
   },
   "file_extension": ".py",
   "mimetype": "text/x-python",
   "name": "python",
   "nbconvert_exporter": "python",
   "pygments_lexer": "ipython3",
   "version": "3.8.8"
  }
 },
 "nbformat": 4,
 "nbformat_minor": 5
}
